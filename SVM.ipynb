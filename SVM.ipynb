{
 "cells": [
  {
   "cell_type": "code",
   "execution_count": 1,
   "id": "7e10c2b0",
   "metadata": {},
   "outputs": [
    {
     "data": {
      "text/plain": [
       "'\\nSVC File\\n'"
      ]
     },
     "execution_count": 1,
     "metadata": {},
     "output_type": "execute_result"
    }
   ],
   "source": [
    "'''\n",
    "SVC File\n",
    "'''"
   ]
  },
  {
   "cell_type": "code",
   "execution_count": 2,
   "id": "5b8a7386",
   "metadata": {},
   "outputs": [],
   "source": [
    "# Download neccesary libraries\n",
    "\n",
    "import pandas as pd\n",
    "import numpy as np\n",
    "import matplotlib.pyplot as plt\n",
    "import rdkit.Chem.PandasTools as rdk\n",
    "import os\n",
    "from sklearn.preprocessing import StandardScaler\n",
    "from sklearn.model_selection import train_test_split\n",
    "from sklearn import svm\n",
    "from sklearn.metrics import accuracy_score\n",
    "from sklearn.metrics import precision_score\n",
    "from sklearn.metrics import confusion_matrix\n",
    "from sklearn.metrics import precision_recall_fscore_support\n",
    "from deepchem.feat.smiles_tokenizer import SmilesTokenizer\n",
    "from deepchem.feat.smiles_tokenizer import BasicSmilesTokenizer"
   ]
  },
  {
   "cell_type": "code",
   "execution_count": 3,
   "id": "f76b922c",
   "metadata": {},
   "outputs": [],
   "source": [
    "# Download and store the dataset\n",
    "\n",
    "dataset_path = \"/Users/gaurishlakhanpal/Downloads/assay_central_tb.sdf\"\n",
    "\n",
    "dataset = rdk.LoadSDF(dataset_path)"
   ]
  },
  {
   "cell_type": "code",
   "execution_count": 4,
   "id": "64fbf3cf",
   "metadata": {},
   "outputs": [
    {
     "data": {
      "text/plain": [
       "'Nc1ncnc2c1c(-c1c[nH]nn1)cn2[C@@H]1O[C@H](CO)[C@@H](O)[C@H]1O'"
      ]
     },
     "execution_count": 4,
     "metadata": {},
     "output_type": "execute_result"
    }
   ],
   "source": [
    "dataset['SMILES'][0]"
   ]
  },
  {
   "cell_type": "code",
   "execution_count": 5,
   "id": "3c02d728",
   "metadata": {},
   "outputs": [],
   "source": [
    "# Let's get all the unique characters first\n",
    "\n",
    "unique_characters = []\n",
    "\n",
    "tokenizer = BasicSmilesTokenizer()\n",
    "\n",
    "for compound in dataset['SMILES']:\n",
    "    val = tokenizer.tokenize(compound)\n",
    "    for char in val:\n",
    "        if(not(char in unique_characters)):\n",
    "            unique_characters.append(char)"
   ]
  },
  {
   "cell_type": "code",
   "execution_count": 6,
   "id": "53f48398",
   "metadata": {},
   "outputs": [
    {
     "data": {
      "text/plain": [
       "['N',\n",
       " 'c',\n",
       " '1',\n",
       " 'n',\n",
       " '2',\n",
       " '(',\n",
       " '-',\n",
       " '[nH]',\n",
       " ')',\n",
       " '[C@@H]',\n",
       " 'O',\n",
       " '[C@H]',\n",
       " 'C',\n",
       " 's',\n",
       " '=',\n",
       " 'F',\n",
       " '[N+]',\n",
       " '[O-]',\n",
       " 'o',\n",
       " '3',\n",
       " '4',\n",
       " '5',\n",
       " '6',\n",
       " '7',\n",
       " '/',\n",
       " 'Cl',\n",
       " '\\\\',\n",
       " 'S',\n",
       " '#',\n",
       " '[n+]',\n",
       " '[S@]',\n",
       " '[C@]',\n",
       " '[C@@]',\n",
       " 'I',\n",
       " '[Se]',\n",
       " '[se]',\n",
       " '[N-]',\n",
       " '[S+]',\n",
       " 'P',\n",
       " '8',\n",
       " '[Na]',\n",
       " '[Si]',\n",
       " '[C-]',\n",
       " '[B-]',\n",
       " 'B',\n",
       " 'Br']"
      ]
     },
     "execution_count": 6,
     "metadata": {},
     "output_type": "execute_result"
    }
   ],
   "source": [
    "unique_characters"
   ]
  },
  {
   "cell_type": "code",
   "execution_count": 7,
   "id": "41a2d788",
   "metadata": {},
   "outputs": [
    {
     "data": {
      "image/png": "[encoded data removed]",
      "text/plain": [
       "<Figure size 432x288 with 1 Axes>"
      ]
     },
     "metadata": {
      "needs_background": "light"
     },
     "output_type": "display_data"
    }
   ],
   "source": [
    "# Alright let's look at the length of the smiles characters \n",
    "\n",
    "smiles_length = []\n",
    "\n",
    "for compounds in dataset['SMILES']:\n",
    "    smiles_length.append(len(compounds))\n",
    "                         \n",
    "# Let's plot the lengths\n",
    "\n",
    "plt.hist(smiles_length, density = True, bins = 100)\n",
    "plt.show()"
   ]
  },
  {
   "cell_type": "code",
   "execution_count": 8,
   "id": "ce2c4337",
   "metadata": {},
   "outputs": [
    {
     "name": "stdout",
     "output_type": "stream",
     "text": [
      "[37.]\n",
      "[45.]\n",
      "[54.]\n",
      "[113.]\n",
      "[17.]\n",
      "[79.5]\n",
      "[11.5]\n"
     ]
    }
   ],
   "source": [
    "# Let's take values that are less than the outlier \n",
    "\n",
    "q1 = np.percentile(smiles_length, [25])\n",
    "q2 = np.percentile(smiles_length, [50])\n",
    "q3 = np.percentile(smiles_length, [75])\n",
    "q4 = np.percentile(smiles_length, [99])\n",
    "\n",
    "iqr = q3 - q1\n",
    "\n",
    "upper_outlier_range = q3 + iqr * 1.5 \n",
    "lower_outlier_range = q1 - iqr * 1.5 \n",
    "\n",
    "print(q1)\n",
    "print(q2)\n",
    "print(q3)\n",
    "print(q4)\n",
    "print(iqr)\n",
    "print(upper_outlier_range)\n",
    "print(lower_outlier_range)"
   ]
  },
  {
   "cell_type": "code",
   "execution_count": 9,
   "id": "cca4f5ca",
   "metadata": {},
   "outputs": [],
   "source": [
    "# Let's only consider values that are not outliers in our new smiles dataset\n",
    "\n",
    "smiles = []\n",
    "smile_classes = []\n",
    "\n",
    "counter = 0\n",
    "for compound in dataset['SMILES']:\n",
    "    if(len(compound) >= lower_outlier_range and len(compound) <= q4):\n",
    "        smiles.append(compound)\n",
    "        smile_classes.append(dataset['single-class-label'][counter])\n",
    "    counter += 1"
   ]
  },
  {
   "cell_type": "code",
   "execution_count": 10,
   "id": "0833cf81",
   "metadata": {},
   "outputs": [
    {
     "data": {
      "text/plain": [
       "['Nc1ncnc2c1c(-c1c[nH]nn1)cn2[C@@H]1O[C@H](CO)[C@@H](O)[C@H]1O',\n",
       " 'Nc1ncnc2c1c(-c1nccs1)cn2[C@@H]1O[C@H](CO)[C@@H](O)[C@H]1O',\n",
       " 'Nc1ncnc2c1c(-c1c[nH]cn1)cn2[C@@H]1O[C@H](CO)[C@@H](O)[C@H]1O',\n",
       " 'Nc1ncnc2c1c(-c1ncc[nH]1)cn2[C@@H]1O[C@H](CO)[C@@H](O)[C@H]1O',\n",
       " 'O=C(O)c1nc(O)nc(O)c1F']"
      ]
     },
     "execution_count": 10,
     "metadata": {},
     "output_type": "execute_result"
    }
   ],
   "source": [
    "smiles[0:5]"
   ]
  },
  {
   "cell_type": "code",
   "execution_count": 11,
   "id": "aa5b9799",
   "metadata": {},
   "outputs": [],
   "source": [
    "# We can now encode this reduced dataset \n",
    "\n",
    "upper_outlier_range = 79 # 79.5\n",
    "\n",
    "num_unique_characters = 37 # 37\n",
    "\n",
    "encoding = np.zeros(shape = (upper_outlier_range, num_unique_characters))"
   ]
  },
  {
   "cell_type": "code",
   "execution_count": 12,
   "id": "8759071f",
   "metadata": {},
   "outputs": [],
   "source": [
    "# We define a function to encode our dataset\n",
    "\n",
    "def weighted(smile_encoding, unique_chars = unique_characters):\n",
    "    \n",
    "    smile_encoding = tokenizer.tokenize(smile_encoding)\n",
    "    \n",
    "    matrix = np.zeros(shape = (1, 46))\n",
    "    for i in range(len(smile_encoding)):\n",
    "        matrix[0, unique_chars.index(smile_encoding[i])] += 1\n",
    "        \n",
    "    return (matrix)"
   ]
  },
  {
   "cell_type": "code",
   "execution_count": 13,
   "id": "dc720ced",
   "metadata": {},
   "outputs": [],
   "source": [
    "enc_smiles = []\n",
    "\n",
    "for x in smiles:\n",
    "    enc_smiles.append(weighted(x))\n",
    "\n",
    "for x in range(len(smile_classes)):\n",
    "    smile_classes[x] = int(smile_classes[x])"
   ]
  },
  {
   "cell_type": "code",
   "execution_count": 14,
   "id": "87971d96",
   "metadata": {},
   "outputs": [],
   "source": [
    "# Standard Scale and format the data for later analysis\n",
    "\n",
    "enc_smiles = np.array(enc_smiles)\n",
    "\n",
    "nsamples, nx, ny = enc_smiles.shape\n",
    "enc_smiles = enc_smiles.reshape((nsamples,nx*ny))\n",
    "\n",
    "scaler = StandardScaler()\n",
    "enc_smiles = scaler.fit_transform(enc_smiles)"
   ]
  },
  {
   "cell_type": "code",
   "execution_count": 15,
   "id": "5f86ab42",
   "metadata": {},
   "outputs": [],
   "source": [
    "# Let's split into test and train\n",
    "# 42 is the best random state\n",
    "\n",
    "from sklearn.model_selection import train_test_split\n",
    "\n",
    "x_train, x_test, y_train, y_test = train_test_split(enc_smiles, smile_classes, test_size = .25)"
   ]
  },
  {
   "cell_type": "code",
   "execution_count": 16,
   "id": "2794947f",
   "metadata": {},
   "outputs": [
    {
     "data": {
      "text/plain": [
       "SVC(class_weight={0: 4, 1: 1})"
      ]
     },
     "execution_count": 16,
     "metadata": {},
     "output_type": "execute_result"
    }
   ],
   "source": [
    "# Train the SVM model \n",
    "\n",
    "from sklearn import svm\n",
    "\n",
    "clf = svm.SVC(kernel = \"rbf\", class_weight = {1:1, 0:4})\n",
    "clf.fit(x_train, y_train)"
   ]
  },
  {
   "cell_type": "code",
   "execution_count": 17,
   "id": "d602ea01",
   "metadata": {},
   "outputs": [],
   "source": [
    "y_pred = clf.predict(x_test)"
   ]
  },
  {
   "cell_type": "code",
   "execution_count": 18,
   "id": "bce435d6",
   "metadata": {},
   "outputs": [
    {
     "name": "stdout",
     "output_type": "stream",
     "text": [
      "[[4475  150]\n",
      " [   1    4]]\n",
      "0.9673866090712743\n",
      "0.8\n"
     ]
    }
   ],
   "source": [
    "print(confusion_matrix(y_pred, y_test))\n",
    "print(accuracy_score(y_pred = y_pred, y_true = y_test))\n",
    "print(precision_score(y_pred = y_pred, y_true = y_test))"
   ]
  },
  {
   "cell_type": "code",
   "execution_count": 19,
   "id": "2772ef70",
   "metadata": {},
   "outputs": [
    {
     "name": "stdout",
     "output_type": "stream",
     "text": [
      "4\n"
     ]
    }
   ],
   "source": [
    "counter = 0\n",
    "for x in range(len(y_test)):\n",
    "    if(y_pred[x] == 1 and y_test[x] == 1):\n",
    "        counter += 1\n",
    "print(counter)"
   ]
  },
  {
   "cell_type": "code",
   "execution_count": 20,
   "id": "8b947da6",
   "metadata": {},
   "outputs": [],
   "source": [
    "import numpy as np\n",
    "import matplotlib.pyplot as plt\n",
    "import seaborn as sns\n",
    "\n",
    "# Borrowed from: https://github.com/DTrimarchi10/confusion_matrix/blob/master/cf_matrix.py\n",
    "def make_confusion_matrix(ytrue,\n",
    "                          ypred,\n",
    "                          labels,\n",
    "                          group_names=None,\n",
    "                          categories='auto',\n",
    "                          count=True,\n",
    "                          percent=True,\n",
    "                          cbar=True,\n",
    "                          xyticks=True,\n",
    "                          xyplotlabels=True,\n",
    "                          sum_stats=True,\n",
    "                          figsize=None,\n",
    "                          cmap='Blues',\n",
    "                          title=None):\n",
    "    '''\n",
    "    This function will make a pretty plot of an sklearn Confusion Matrix cm using a Seaborn heatmap visualization.\n",
    "    Arguments\n",
    "    ---------\n",
    "    cf:            confusion matrix to be passed in\n",
    "    group_names:   List of strings that represent the labels row by row to be shown in each square.\n",
    "    categories:    List of strings containing the categories to be displayed on the x,y axis. Default is 'auto'\n",
    "    count:         If True, show the raw number in the confusion matrix. Default is True.\n",
    "    normalize:     If True, show the proportions for each category. Default is True.\n",
    "    cbar:          If True, show the color bar. The cbar values are based off the values in the confusion matrix.\n",
    "                   Default is True.\n",
    "    xyticks:       If True, show x and y ticks. Default is True.\n",
    "    xyplotlabels:  If True, show 'True Label' and 'Predicted Label' on the figure. Default is True.\n",
    "    sum_stats:     If True, display summary statistics below the figure. Default is True.\n",
    "    figsize:       Tuple representing the figure size. Default will be the matplotlib rcParams value.\n",
    "    cmap:          Colormap of the values displayed from matplotlib.pyplot.cm. Default is 'Blues'\n",
    "                   See http://matplotlib.org/examples/color/colormaps_reference.html\n",
    "                   \n",
    "    title:         Title for the heatmap. Default is None.\n",
    "    '''\n",
    "\n",
    "    cf = confusion_matrix(y_true = ytrue, y_pred = ypred, labels=labels)\n",
    "    \n",
    "    cfn = cmn = cf.astype('float')/cf.sum(axis=1)[:, np.newaxis]\n",
    "\n",
    "    # CODE TO GENERATE TEXT INSIDE EACH SQUARE\n",
    "    blanks = ['' for i in range(cf.size)]\n",
    "\n",
    "    if group_names and len(group_names)==cf.size:\n",
    "        group_labels = [\"{}\\n\".format(value) for value in group_names]\n",
    "    else:\n",
    "        group_labels = blanks\n",
    "\n",
    "    if count:\n",
    "        group_counts = [\"{0:0.0f}\\n\".format(value) for value in cf.flatten()]\n",
    "    else:\n",
    "        group_counts = blanks\n",
    "\n",
    "    if percent:\n",
    "        group_percentages = [\"{0:.2%}\".format(value) for value in cf.flatten()/np.sum(cf)]\n",
    "        group_percentages = []\n",
    "        group_percentages.append(round(cf[0][0]/(cf[1][0] + cf[0][0]), 2))\n",
    "        group_percentages.append(round(cf[0][1]/(cf[1][1] + cf[0][1]), 2))\n",
    "        group_percentages.append(round(cf[1][0]/(cf[1][0] + cf[0][0]), 2))\n",
    "        group_percentages.append(round(cf[1][1]/(cf[1][1] + cf[0][1]), 2))\n",
    "        \n",
    "    else:\n",
    "        group_percentages = blanks\n",
    "\n",
    "    box_labels = [f\"{v1}{v2}{v3}\".strip() for v1, v2, v3 in zip(group_labels,group_counts,group_percentages)]\n",
    "    box_labels = np.asarray(box_labels).reshape(cf.shape[0],cf.shape[1])\n",
    "\n",
    "\n",
    "    # CODE TO GENERATE SUMMARY STATISTICS & TEXT FOR SUMMARY STATS\n",
    "    if sum_stats:\n",
    "        #Accuracy is sum of diagonal divided by total observations\n",
    "        accuracy  = np.trace(cf) / float(np.sum(cf))\n",
    "\n",
    "        #if it is a binary confusion matrix, show some more stats\n",
    "        if(True):\n",
    "            #Metrics for Binary Confusion Matrices\n",
    "            \n",
    "            vals = precision_recall_fscore_support(y_true = ytrue, y_pred = ypred, labels=labels, average = \"weighted\")\n",
    "            \n",
    "            precision = vals[0]\n",
    "            recall    = vals[1]\n",
    "            f1_score  = vals[2]\n",
    "            stats_text = \"\\n\\nAccuracy={:0.3f}\\nPrecision={:0.3f}\\nRecall={:0.3f}\\nF1 Score={:0.3f}\".format(\n",
    "                accuracy,precision,recall,f1_score)\n",
    "        else:\n",
    "            stats_text = \"\\n\\nAccuracy={:0.3f}\".format(accuracy)\n",
    "    else:\n",
    "        stats_text = \"\"\n",
    "\n",
    "\n",
    "    # SET FIGURE PARAMETERS ACCORDING TO OTHER ARGUMENTS\n",
    "    if figsize==None:\n",
    "        #Get default figure size if not set\n",
    "        figsize = plt.rcParams.get('figure.figsize')\n",
    "\n",
    "    if xyticks==False:\n",
    "        #Do not show categories if xyticks is False\n",
    "        categories=False\n",
    "\n",
    "\n",
    "    # MAKE THE HEATMAP VISUALIZATION\n",
    "    plt.figure(figsize=figsize)\n",
    "    sns.set(font_scale=1.4)\n",
    "    sns.heatmap(cfn,annot=box_labels,fmt=\"\",cmap=cmap,cbar=cbar,xticklabels=categories,yticklabels=categories, annot_kws={'size': 15})\n",
    "\n",
    "    if xyplotlabels:\n",
    "        plt.ylabel('True Classes', fontsize = 19)\n",
    "        plt.xlabel('Predicted Classes' + stats_text, fontsize = 19)\n",
    "    else:\n",
    "        plt.xlabel(stats_text)\n",
    "    \n",
    "    if title:\n",
    "        plt.title(title, fontsize = 25)"
   ]
  },
  {
   "cell_type": "code",
   "execution_count": 21,
   "id": "11b41619",
   "metadata": {},
   "outputs": [
    {
     "data": {
      "image/png": "[encoded data removed]",
      "text/plain": [
       "<Figure size 720x720 with 2 Axes>"
      ]
     },
     "metadata": {
      "needs_background": "light"
     },
     "output_type": "display_data"
    }
   ],
   "source": [
    "make_confusion_matrix(ytrue = y_test, ypred = y_pred, labels = [1, 0], categories = ['positive', 'negative'], title = \"Tuberculosis Effective Drug Prediction Breakdown With SVM\", figsize = (10, 10))"
   ]
  },
  {
   "cell_type": "code",
   "execution_count": null,
   "id": "0eb21cf2",
   "metadata": {},
   "outputs": [],
   "source": []
  }
 ],
 "metadata": {
  "kernelspec": {
   "display_name": "Python 3 (ipykernel)",
   "language": "python",
   "name": "python3"
  },
  "language_info": {
   "codemirror_mode": {
    "name": "ipython",
    "version": 3
   },
   "file_extension": ".py",
   "mimetype": "text/x-python",
   "name": "python",
   "nbconvert_exporter": "python",
   "pygments_lexer": "ipython3",
   "version": "3.8.0"
  }
 },
 "nbformat": 4,
 "nbformat_minor": 5
}
